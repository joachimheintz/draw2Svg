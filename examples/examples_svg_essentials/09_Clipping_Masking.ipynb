{
 "cells": [
  {
   "cell_type": "markdown",
   "id": "guided-thanks",
   "metadata": {},
   "source": [
    "# 9. Clipping and Masking"
   ]
  },
  {
   "cell_type": "code",
   "execution_count": 1,
   "id": "excessive-boost",
   "metadata": {},
   "outputs": [],
   "source": [
    "import draw2Svg as dw"
   ]
  },
  {
   "cell_type": "markdown",
   "id": "healthy-tribe",
   "metadata": {},
   "source": [
    "Basic example from [draw2Svg doc](https://draw2svg.netlify.app/other/#clip):"
   ]
  },
  {
   "cell_type": "code",
   "execution_count": 3,
   "id": "attached-friendship",
   "metadata": {},
   "outputs": [
    {
     "data": {
      "image/svg+xml": [
       "<?xml version=\"1.0\" encoding=\"UTF-8\"?>\n",
       "<svg xmlns=\"http://www.w3.org/2000/svg\" xmlns:xlink=\"http://www.w3.org/1999/xlink\"\n",
       "     width=\"200\" height=\"100\" viewBox=\"0 0 200 100\">\n",
       "<defs>\n",
       "<clipPath id=\"clippy0\">\n",
       "<rect x=\"0\" y=\"0\" width=\"100\" height=\"100\" />\n",
       "</clipPath>\n",
       "</defs>\n",
       "<circle cx=\"100\" cy=\"100\" r=\"100\" fill=\"cyan\" clip-path=\"url(#clippy0)\" id=\"circle\" />\n",
       "</svg>"
      ],
      "text/plain": [
       "<draw2Svg.drawing.Drawing at 0x7ff75bb95730>"
      ]
     },
     "execution_count": 3,
     "metadata": {},
     "output_type": "execute_result"
    }
   ],
   "source": [
    "d = dw.Drawing(200, 100, idPrefix='clippy')\n",
    "\n",
    "clip = dw.ClipPath()\n",
    "clip.append(dw.Rectangle(0,0,100,100))\n",
    "\n",
    "# Draw a cropped circle\n",
    "c = dw.Circle(100,100,100,\n",
    "                fill=\"cyan\", clip_path=clip,\n",
    "                id='circle')\n",
    "\n",
    "d.append(c)\n",
    "d"
   ]
  },
  {
   "cell_type": "markdown",
   "id": "burning-coordinate",
   "metadata": {},
   "source": [
    "Another example:"
   ]
  },
  {
   "cell_type": "code",
   "execution_count": 19,
   "id": "efficient-petroleum",
   "metadata": {},
   "outputs": [
    {
     "data": {
      "image/svg+xml": [
       "<?xml version=\"1.0\" encoding=\"UTF-8\"?>\n",
       "<svg xmlns=\"http://www.w3.org/2000/svg\" xmlns:xlink=\"http://www.w3.org/1999/xlink\"\n",
       "     width=\"600\" height=\"200\" viewBox=\"0 0 600 200\">\n",
       "<defs>\n",
       "<path d=\"M150,150 L197,198 L296,118 L73,144 L285,28 L10,54 L279,65 L54,66 L153,15 L271,140 L28,98 L195,18 L124,34 L261,22 L115,28 L234,177 L96,105 L294,166 L0,61 L57,8 L275,123 L72,179 L183,156 L242,89 L29,144 L145,156 L181,62 L281,159 L174,59 L179,124 L264,108 L223,90 L87,182 L29,159 L210,180 L26,132 L60,15 L235,24 L96,8 L206,31 L179,66\" stroke=\"black\" stroke-width=\"2\" fill=\"none\" id=\"d0\" />\n",
       "<clipPath id=\"d1\">\n",
       "<circle cx=\"150\" cy=\"100\" r=\"75\" />\n",
       "</clipPath>\n",
       "</defs>\n",
       "<use xlink:href=\"#d0\" />\n",
       "<use xlink:href=\"#d0\" x=\"300\" y=\"0\" clip-path=\"url(#d1)\" />\n",
       "</svg>"
      ],
      "text/plain": [
       "<draw2Svg.drawing.Drawing at 0x7f1419052370>"
      ]
     },
     "execution_count": 19,
     "metadata": {},
     "output_type": "execute_result"
    }
   ],
   "source": [
    "d = dw.Drawing(600,200)\n",
    "\n",
    "# draw a random path in the left half of the canvas\n",
    "p = dw.Path(stroke='black',stroke_width=2,fill='none')\n",
    "p.M(150,150)\n",
    "from random import randint\n",
    "for i in range(40):\n",
    "    p.L(randint(0,300),randint(0,200))\n",
    "d.append(p)\n",
    "\n",
    "# circle as clipping shape\n",
    "circ = dw.Circle(150,100,75)\n",
    "c = dw.ClipPath()\n",
    "c.append(circ)\n",
    "\n",
    "# repeat lines in the right half and apply clipping\n",
    "d.append(dw.Use(p,300,0,clip_path=c))\n",
    "d"
   ]
  },
  {
   "cell_type": "markdown",
   "id": "imperial-satellite",
   "metadata": {},
   "source": [
    "Complex clip path:"
   ]
  },
  {
   "cell_type": "code",
   "execution_count": 50,
   "id": "continuing-major",
   "metadata": {},
   "outputs": [
    {
     "name": "stdout",
     "output_type": "stream",
     "text": [
      "<?xml version=\"1.0\" encoding=\"UTF-8\"?>\n",
      "<svg xmlns=\"http://www.w3.org/2000/svg\" xmlns:xlink=\"http://www.w3.org/1999/xlink\"\n",
      "     width=\"300\" height=\"300\" viewBox=\"0 0 300 300\">\n",
      "<defs>\n",
      "<g id=\"complex0\">\n",
      "<rect x=\"0\" y=\"50\" width=\"90\" height=\"60\" fill=\"#999\" />\n",
      "<circle cx=\"25\" cy=\"25\" r=\"25\" fill=\"#666\" />\n",
      "<path d=\"M30,0 L80,0 L80,100 Z\" fill=\"#ccc\" />\n",
      "</g>\n",
      "<clipPath id=\"complex1\">\n",
      "<path d=\"M5,55 C25,5,45,-25,75,55 C85,85,20,105,40,55 Z\" stroke=\"black\" fill=\"none\" />\n",
      "</clipPath>\n",
      "<clipPath id=\"complex2\">\n",
      "<text x=\"20\" y=\"20\" font-size=\"48\" stroke=\"black\" fill=\"none\" transform=\"rotate(60)\" dy=\"0em\">CLIP</text>\n",
      "</clipPath>\n",
      "</defs>\n",
      "<use xlink:href=\"#complex0\" x=\"0\" y=\"0\" clip-path=\"url(#complex1)\" />\n",
      "<g transform=\"translate(100,0)\">\n",
      "<use xlink:href=\"#complex0\" />\n",
      "<use xlink:href=\"#complex6\" />\n",
      "</g>\n",
      "<use xlink:href=\"#complex0\" x=\"0\" y=\"150\" clip-path=\"url(#complex2)\" />\n",
      "<g transform=\"translate(100,150)\">\n",
      "<use xlink:href=\"#complex0\" />\n",
      "<use xlink:href=\"#complex7\" />\n",
      "</g>\n",
      "</svg>\n"
     ]
    },
    {
     "data": {
      "image/svg+xml": [
       "<?xml version=\"1.0\" encoding=\"UTF-8\"?>\n",
       "<svg xmlns=\"http://www.w3.org/2000/svg\" xmlns:xlink=\"http://www.w3.org/1999/xlink\"\n",
       "     width=\"300\" height=\"300\" viewBox=\"0 0 300 300\">\n",
       "<defs>\n",
       "<g id=\"complex0\">\n",
       "<rect x=\"0\" y=\"50\" width=\"90\" height=\"60\" fill=\"#999\" id=\"complex3\" />\n",
       "<circle cx=\"25\" cy=\"25\" r=\"25\" fill=\"#666\" id=\"complex4\" />\n",
       "<path d=\"M30,0 L80,0 L80,100 Z\" fill=\"#ccc\" id=\"complex5\" />\n",
       "</g>\n",
       "<clipPath id=\"complex1\">\n",
       "<path d=\"M5,55 C25,5,45,-25,75,55 C85,85,20,105,40,55 Z\" stroke=\"black\" fill=\"none\" id=\"complex6\" />\n",
       "</clipPath>\n",
       "<clipPath id=\"complex2\">\n",
       "<text x=\"20\" y=\"20\" font-size=\"48\" stroke=\"black\" fill=\"none\" transform=\"rotate(60)\" dy=\"0em\" id=\"complex7\">CLIP</text>\n",
       "</clipPath>\n",
       "</defs>\n",
       "<use xlink:href=\"#complex0\" x=\"0\" y=\"0\" clip-path=\"url(#complex1)\" />\n",
       "<g transform=\"translate(100,0)\">\n",
       "<use xlink:href=\"#complex0\" />\n",
       "<use xlink:href=\"#complex6\" />\n",
       "</g>\n",
       "<use xlink:href=\"#complex0\" x=\"0\" y=\"150\" clip-path=\"url(#complex2)\" />\n",
       "<g transform=\"translate(100,150)\">\n",
       "<use xlink:href=\"#complex0\" />\n",
       "<use xlink:href=\"#complex7\" />\n",
       "</g>\n",
       "</svg>"
      ],
      "text/plain": [
       "<draw2Svg.drawing.Drawing at 0x7f14187c6f70>"
      ]
     },
     "execution_count": 50,
     "metadata": {},
     "output_type": "execute_result"
    }
   ],
   "source": [
    "d = dw.Drawing(300,300,idPrefix='complex')\n",
    "\n",
    "curve1 = dw.Path(stroke='black',fill='none')\n",
    "curve1.M(5,55).C(25,5, 45,-25, 75,55).C(85,85, 20,105, 40,55).Z()\n",
    "\n",
    "curveClip = dw.ClipPath()\n",
    "curveClip.append(curve1)\n",
    "\n",
    "text1 = dw.Text('CLIP',48,20,20,stroke='black',fill='none',transform='rotate(60)')\n",
    "textClip = dw.ClipPath()\n",
    "textClip.append(text1)\n",
    "\n",
    "shapes = dw.Group()\n",
    "shapes.append(dw.Rectangle(0,50,90,60,fill='#999'))\n",
    "shapes.append(dw.Circle(25,25,25,fill='#666'))\n",
    "shapes.append(dw.Lines(30,0,80,0,80,100,close='true',fill='#ccc'))\n",
    "\n",
    "# draw shapes with clip path\n",
    "d.append(dw.Use(shapes,0,0,clip_path=curveClip))\n",
    "\n",
    "# show clip path\n",
    "g = dw.Group(transform='translate(100,0)')\n",
    "g.append(shapes)\n",
    "g.append(curve1)\n",
    "d.append(g)\n",
    "\n",
    "# draw shapes with text as clip path\n",
    "d.append(dw.Use(shapes,0,150,clip_path=textClip))\n",
    "\n",
    "# show text clip path\n",
    "g = dw.Group(transform='translate(100,150)')\n",
    "g.append(shapes)\n",
    "g.append(text1)\n",
    "d.append(g)\n",
    "\n",
    "print(d.asSvg())\n",
    "d"
   ]
  },
  {
   "cell_type": "code",
   "execution_count": null,
   "id": "universal-graham",
   "metadata": {},
   "outputs": [],
   "source": []
  }
 ],
 "metadata": {
  "kernelspec": {
   "display_name": "Python 3",
   "language": "python",
   "name": "python3"
  },
  "language_info": {
   "codemirror_mode": {
    "name": "ipython",
    "version": 3
   },
   "file_extension": ".py",
   "mimetype": "text/x-python",
   "name": "python",
   "nbconvert_exporter": "python",
   "pygments_lexer": "ipython3",
   "version": "3.9.2"
  }
 },
 "nbformat": 4,
 "nbformat_minor": 5
}
