{
 "cells": [
  {
   "cell_type": "markdown",
   "id": "southern-manchester",
   "metadata": {},
   "source": [
    "# 8. Text"
   ]
  },
  {
   "cell_type": "code",
   "execution_count": 1,
   "id": "perfect-segment",
   "metadata": {},
   "outputs": [],
   "source": [
    "import draw2Svg as dw"
   ]
  },
  {
   "cell_type": "markdown",
   "id": "following-jonathan",
   "metadata": {},
   "source": [
    "## 8.1 Text Terminology"
   ]
  },
  {
   "cell_type": "markdown",
   "id": "respective-career",
   "metadata": {},
   "source": [
    "## 8.2 Simple Attributes and Properties of the `text` Element"
   ]
  },
  {
   "cell_type": "markdown",
   "id": "current-leone",
   "metadata": {},
   "source": [
    "Default is black as fill colour and no outline."
   ]
  },
  {
   "cell_type": "code",
   "execution_count": 7,
   "id": "graduate-breakdown",
   "metadata": {},
   "outputs": [
    {
     "data": {
      "image/svg+xml": [
       "<?xml version=\"1.0\" encoding=\"UTF-8\"?>\n",
       "<svg xmlns=\"http://www.w3.org/2000/svg\" xmlns:xlink=\"http://www.w3.org/1999/xlink\"\n",
       "     width=\"400\" height=\"200\" viewBox=\"0 0 400 200\">\n",
       "<defs>\n",
       "</defs>\n",
       "<path d=\"M20,0 L20,200 M10,60 L400,60 M10,120 L400,120 M10,180 L400,180\" stroke=\"gray\" />\n",
       "<text x=\"20\" y=\"60\" font-size=\"50\" dy=\"0em\">Simplest Text</text>\n",
       "<text x=\"20\" y=\"120\" font-size=\"50\" stroke=\"black\" dy=\"0em\">Outline / Filled</text>\n",
       "<text x=\"20\" y=\"180\" font-size=\"50\" stroke=\"black\" stroke-width=\"0.5\" fill=\"none\" dy=\"0em\">Outlined only</text>\n",
       "</svg>"
      ],
      "text/plain": [
       "<draw2Svg.drawing.Drawing at 0x7fb8fc15ed00>"
      ]
     },
     "execution_count": 7,
     "metadata": {},
     "output_type": "execute_result"
    }
   ],
   "source": [
    "d = dw.Drawing(400,200)\n",
    "\n",
    "# guide lines\n",
    "l = dw.Path(stroke='gray')\n",
    "l.M(20,0).L(20,200)\n",
    "l.M(10,60).L(400,60)\n",
    "l.M(10,120).L(400,120)\n",
    "l.M(10,180).L(400,180)\n",
    "d.append(l)\n",
    "\n",
    "# default text, with fill, and outline only\n",
    "d.append(dw.Text('Simplest Text',x=20,y=60,fontSize=50))\n",
    "d.append(dw.Text('Outline / Filled',x=20,y=120,fontSize=50,stroke='black'))\n",
    "d.append(dw.Text('Outlined only',x=20,y=180,fontSize=50,stroke='black',stroke_width=0.5,fill='none'))\n",
    "\n",
    "d"
   ]
  },
  {
   "cell_type": "markdown",
   "id": "impressive-finance",
   "metadata": {},
   "source": [
    "Text weight, style, decoration, and spacing attributes.\n",
    "\n",
    "Why not font_size rather than fontSize?\n",
    "And why can the font size not be set in the group for all elements?"
   ]
  },
  {
   "cell_type": "code",
   "execution_count": 8,
   "id": "minimal-pursuit",
   "metadata": {},
   "outputs": [
    {
     "data": {
      "image/svg+xml": [
       "<?xml version=\"1.0\" encoding=\"UTF-8\"?>\n",
       "<svg xmlns=\"http://www.w3.org/2000/svg\" xmlns:xlink=\"http://www.w3.org/1999/xlink\"\n",
       "     width=\"600\" height=\"200\" viewBox=\"0 0 600 200\">\n",
       "<defs>\n",
       "</defs>\n",
       "<g>\n",
       "<text x=\"20\" y=\"35\" font-size=\"30\" font-weight=\"bold\" dy=\"0em\">bold</text>\n",
       "<text x=\"20\" y=\"75\" font-size=\"30\" font-style=\"italic\" dy=\"0em\">italic</text>\n",
       "<text x=\"20\" y=\"115\" font-size=\"30\" text-decoration=\"underline\" dy=\"0em\">under</text>\n",
       "<text x=\"20\" y=\"155\" font-size=\"30\" text-decoration=\"overline\" dy=\"0em\">over</text>\n",
       "<text x=\"20\" y=\"195\" font-size=\"30\" text-decoration=\"line-through\" dy=\"0em\">through</text>\n",
       "<text x=\"200\" y=\"35\" font-size=\"30\" dy=\"0em\">normal word space</text>\n",
       "<text x=\"200\" y=\"75\" font-size=\"30\" word-spacing=\"10\" dy=\"0em\">more word space</text>\n",
       "<text x=\"200\" y=\"115\" font-size=\"30\" word-spacing=\"-5\" dy=\"0em\">less word space</text>\n",
       "<text x=\"200\" y=\"155\" font-size=\"30\" letter-spacing=\"8\" dy=\"0em\">wide letter space</text>\n",
       "<text x=\"200\" y=\"195\" font-size=\"30\" letter-spacing=\"-2\" dy=\"0em\">narrow letter space</text>\n",
       "</g>\n",
       "</svg>"
      ],
      "text/plain": [
       "<draw2Svg.drawing.Drawing at 0x7fb8fc13d4f0>"
      ]
     },
     "execution_count": 8,
     "metadata": {},
     "output_type": "execute_result"
    }
   ],
   "source": [
    "d = dw.Drawing(600,200)\n",
    "g = dw.Group()\n",
    "g.append(dw.Text('bold',fontSize=30,x=20,y=35,font_weight='bold'))\n",
    "g.append(dw.Text('italic',fontSize=30,x=20,y=75,font_style='italic'))\n",
    "g.append(dw.Text('under',fontSize=30,x=20,y=115,text_decoration='underline'))\n",
    "g.append(dw.Text('over',fontSize=30,x=20,y=155,text_decoration='overline'))\n",
    "g.append(dw.Text('through',fontSize=30,x=20,y=195,text_decoration='line-through'))\n",
    "g.append(dw.Text('normal word space',fontSize=30,x=200,y=35))\n",
    "g.append(dw.Text('more word space',fontSize=30,x=200,y=75,word_spacing=10))\n",
    "g.append(dw.Text('less word space',fontSize=30,x=200,y=115,word_spacing=-5))\n",
    "g.append(dw.Text('wide letter space',fontSize=30,x=200,y=155,letter_spacing=8))\n",
    "g.append(dw.Text('narrow letter space',fontSize=30,x=200,y=195,letter_spacing=-2))\n",
    "d.append(g)\n",
    "d"
   ]
  },
  {
   "cell_type": "markdown",
   "id": "viral-shakespeare",
   "metadata": {},
   "source": [
    "## 8.3 Text Alignment"
   ]
  },
  {
   "cell_type": "code",
   "execution_count": 10,
   "id": "conceptual-valve",
   "metadata": {},
   "outputs": [
    {
     "data": {
      "image/svg+xml": [
       "<?xml version=\"1.0\" encoding=\"UTF-8\"?>\n",
       "<svg xmlns=\"http://www.w3.org/2000/svg\" xmlns:xlink=\"http://www.w3.org/1999/xlink\"\n",
       "     width=\"150\" height=\"100\" viewBox=\"0 0 150 100\">\n",
       "<defs>\n",
       "</defs>\n",
       "<path d=\"M75,100 L75,0\" stroke=\"gray\" />\n",
       "<text x=\"75\" y=\"30\" font-size=\"24\" text-anchor=\"start\" dy=\"0em\">Start</text>\n",
       "<text x=\"75\" y=\"60\" font-size=\"24\" text-anchor=\"middle\" dy=\"0em\">Middle</text>\n",
       "<text x=\"75\" y=\"90\" font-size=\"24\" text-anchor=\"end\" dy=\"0em\">End</text>\n",
       "</svg>"
      ],
      "text/plain": [
       "<draw2Svg.drawing.Drawing at 0x7fb8fc1bb4f0>"
      ]
     },
     "execution_count": 10,
     "metadata": {},
     "output_type": "execute_result"
    }
   ],
   "source": [
    "d = dw.Drawing(150,100)\n",
    "d.append(dw.Line(75,100,75,0,stroke='gray'))\n",
    "d.append(dw.Text('Start',24,75,30,text_anchor='start'))\n",
    "d.append(dw.Text('Middle',24,75,60,text_anchor='middle'))\n",
    "d.append(dw.Text('End',24,75,90,text_anchor='end'))\n",
    "d"
   ]
  },
  {
   "cell_type": "markdown",
   "id": "introductory-compatibility",
   "metadata": {},
   "source": [
    "## 8.4 The `tspan` Element"
   ]
  },
  {
   "cell_type": "code",
   "execution_count": 11,
   "id": "changed-wholesale",
   "metadata": {},
   "outputs": [
    {
     "data": {
      "image/svg+xml": [
       "<?xml version=\"1.0\" encoding=\"UTF-8\"?>\n",
       "<svg xmlns=\"http://www.w3.org/2000/svg\" xmlns:xlink=\"http://www.w3.org/1999/xlink\"\n",
       "     width=\"600\" height=\"50\" viewBox=\"0 0 600 50\">\n",
       "<defs>\n",
       "</defs>\n",
       "<text x=\"10\" y=\"40\" font-size=\"24\" dy=\"0em\">Switch among <tspan font-style=\"italic\">italic</tspan><tspan>, normal, and </tspan><tspan font-weight=\"bold\">bold</tspan><tspan> text.</tspan></text>\n",
       "</svg>"
      ],
      "text/plain": [
       "<draw2Svg.drawing.Drawing at 0x7fb8fc13d130>"
      ]
     },
     "execution_count": 11,
     "metadata": {},
     "output_type": "execute_result"
    }
   ],
   "source": [
    "d = dw.Drawing(600,50)\n",
    "txt = dw.Text('Switch among ',24,10,40)\n",
    "txt.append(dw.TSpan('italic',font_style='italic'))\n",
    "txt.append(dw.TSpan(', normal, and '))\n",
    "txt.append(dw.TSpan('bold',font_weight='bold'))\n",
    "txt.append(dw.TSpan(' text.'))\n",
    "d.append(txt)\n",
    "d"
   ]
  },
  {
   "cell_type": "markdown",
   "id": "logical-alabama",
   "metadata": {},
   "source": [
    "The `tspan` element can also be used to displace single characters:"
   ]
  },
  {
   "cell_type": "code",
   "execution_count": 12,
   "id": "brazilian-pollution",
   "metadata": {},
   "outputs": [
    {
     "data": {
      "image/svg+xml": [
       "<?xml version=\"1.0\" encoding=\"UTF-8\"?>\n",
       "<svg xmlns=\"http://www.w3.org/2000/svg\" xmlns:xlink=\"http://www.w3.org/1999/xlink\"\n",
       "     width=\"300\" height=\"160\" viewBox=\"0 0 300 160\">\n",
       "<defs>\n",
       "</defs>\n",
       "<text x=\"10\" y=\"30\" font-size=\"24\" dy=\"0em\">F<tspan dy=\"5\">a</tspan><tspan dy=\"31\" dx=\"21\">l</tspan><tspan dy=\"89\" dx=\"54\">l</tspan></text>\n",
       "</svg>"
      ],
      "text/plain": [
       "<draw2Svg.drawing.Drawing at 0x7fb8fc13d610>"
      ]
     },
     "execution_count": 12,
     "metadata": {},
     "output_type": "execute_result"
    }
   ],
   "source": [
    "d = dw.Drawing(300,160)\n",
    "txt = dw.Text('F',24,10,30)\n",
    "txt.append(dw.TSpan('a',dy=5))\n",
    "txt.append(dw.TSpan('l',dy=31,dx=21))\n",
    "txt.append(dw.TSpan('l',dy=89,dx=54))\n",
    "d.append(txt)\n",
    "d"
   ]
  },
  {
   "cell_type": "code",
   "execution_count": 13,
   "id": "impossible-harvey",
   "metadata": {},
   "outputs": [
    {
     "data": {
      "image/svg+xml": [
       "<?xml version=\"1.0\" encoding=\"UTF-8\"?>\n",
       "<svg xmlns=\"http://www.w3.org/2000/svg\" xmlns:xlink=\"http://www.w3.org/1999/xlink\"\n",
       "     width=\"500\" height=\"200\" viewBox=\"0 0 500 200\">\n",
       "<defs>\n",
       "</defs>\n",
       "<text x=\"10\" y=\"50\" font-size=\"20\" dy=\"0em\">They dined on mince, and slices of quince,<tspan x=\"30\" y=\"80\">Which they ate with a runcible spoon;</tspan><tspan x=\"10\" y=\"110\">And hand in hand, on the edge of the sand,</tspan><tspan x=\"30\" y=\"140\">They danced by the light of the moon.</tspan></text>\n",
       "</svg>"
      ],
      "text/plain": [
       "<draw2Svg.drawing.Drawing at 0x7fb8fc1bb2b0>"
      ]
     },
     "execution_count": 13,
     "metadata": {},
     "output_type": "execute_result"
    }
   ],
   "source": [
    "d = dw.Drawing(500,200)\n",
    "txt = dw.Text('They dined on mince, and slices of quince,',20,10,50)\n",
    "txt.append(dw.TSpan('Which they ate with a runcible spoon;',x=30,y=80))\n",
    "txt.append(dw.TSpan('And hand in hand, on the edge of the sand,',x=10,y=110))\n",
    "txt.append(dw.TSpan('They danced by the light of the moon.',x=30,y=140))\n",
    "d.append(txt)\n",
    "d"
   ]
  },
  {
   "cell_type": "markdown",
   "id": "communist-daily",
   "metadata": {},
   "source": [
    "Rotate letters with `tspan`:"
   ]
  },
  {
   "cell_type": "code",
   "execution_count": 20,
   "id": "creative-material",
   "metadata": {},
   "outputs": [
    {
     "data": {
      "image/svg+xml": [
       "<?xml version=\"1.0\" encoding=\"UTF-8\"?>\n",
       "<svg xmlns=\"http://www.w3.org/2000/svg\" xmlns:xlink=\"http://www.w3.org/1999/xlink\"\n",
       "     width=\"200\" height=\"100\" viewBox=\"0 0 200 100\">\n",
       "<defs>\n",
       "</defs>\n",
       "<text x=\"20\" y=\"50\" font-size=\"20\" letter-spacing=\"20\" dy=\"0em\"><tspan rotate=\"35\">R</tspan><tspan rotate=\"50 20\">OT</tspan><tspan rotate=\"261232267\">ATE</tspan></text>\n",
       "</svg>"
      ],
      "text/plain": [
       "<draw2Svg.drawing.Drawing at 0x7fb8fc1bbdc0>"
      ]
     },
     "execution_count": 20,
     "metadata": {},
     "output_type": "execute_result"
    }
   ],
   "source": [
    "from random import randrange\n",
    "d = dw.Drawing(200,100)\n",
    "txt = dw.Text('',20,20,50,letter_spacing=20)\n",
    "txt.append(dw.TSpan('R',rotate=randrange(360)))\n",
    "txt.append(dw.TSpan('OT',rotate='50 20'))\n",
    "txt.append(dw.TSpan('ATE',rotate=''.join([str(randrange(360)) for i in range(3)])))\n",
    "d.append(txt)\n",
    "d"
   ]
  },
  {
   "cell_type": "markdown",
   "id": "caroline-steel",
   "metadata": {},
   "source": [
    "Use of `baseline_shift`: NOT WORKING??\n",
    "\n",
    "It should result in 'baseline-shift: \"sub\"', not 'baseline-shift=\"sub\"' — how to do this?"
   ]
  },
  {
   "cell_type": "code",
   "execution_count": 21,
   "id": "entertaining-impact",
   "metadata": {},
   "outputs": [
    {
     "name": "stdout",
     "output_type": "stream",
     "text": [
      "<?xml version=\"1.0\" encoding=\"UTF-8\"?>\n",
      "<svg xmlns=\"http://www.w3.org/2000/svg\" xmlns:xlink=\"http://www.w3.org/1999/xlink\"\n",
      "     width=\"200\" height=\"100\" viewBox=\"0 0 200 100\">\n",
      "<defs>\n",
      "</defs>\n",
      "<text x=\"20\" y=\"50\" font-size=\"20\" dy=\"0em\">C<tspan baseline-shift=\"sub\">12</tspan><tspan>H</tspan><tspan baseline-shift=\"super\">22</tspan></text>\n",
      "</svg>\n"
     ]
    },
    {
     "data": {
      "image/svg+xml": [
       "<?xml version=\"1.0\" encoding=\"UTF-8\"?>\n",
       "<svg xmlns=\"http://www.w3.org/2000/svg\" xmlns:xlink=\"http://www.w3.org/1999/xlink\"\n",
       "     width=\"200\" height=\"100\" viewBox=\"0 0 200 100\">\n",
       "<defs>\n",
       "</defs>\n",
       "<text x=\"20\" y=\"50\" font-size=\"20\" dy=\"0em\">C<tspan baseline-shift=\"sub\">12</tspan><tspan>H</tspan><tspan baseline-shift=\"super\">22</tspan></text>\n",
       "</svg>"
      ],
      "text/plain": [
       "<draw2Svg.drawing.Drawing at 0x7fb8fc13d820>"
      ]
     },
     "execution_count": 21,
     "metadata": {},
     "output_type": "execute_result"
    }
   ],
   "source": [
    "d = dw.Drawing(200,100)\n",
    "txt = dw.Text('C',20,20,50)\n",
    "txt.append(dw.TSpan('12',baseline_shift='sub'))\n",
    "txt.append(dw.TSpan('H'))\n",
    "txt.append(dw.TSpan('22',baseline_shift='super'))\n",
    "d.append(txt)\n",
    "print(d.asSvg())\n",
    "d"
   ]
  },
  {
   "cell_type": "markdown",
   "id": "loose-wages",
   "metadata": {},
   "source": [
    "## 8.5 Setting `textLength`"
   ]
  },
  {
   "cell_type": "code",
   "execution_count": 23,
   "id": "breathing-translation",
   "metadata": {},
   "outputs": [
    {
     "data": {
      "image/svg+xml": [
       "<?xml version=\"1.0\" encoding=\"UTF-8\"?>\n",
       "<svg xmlns=\"http://www.w3.org/2000/svg\" xmlns:xlink=\"http://www.w3.org/1999/xlink\"\n",
       "     width=\"400\" height=\"200\" viewBox=\"0 0 400 200\">\n",
       "<defs>\n",
       "</defs>\n",
       "<text x=\"20\" y=\"30\" font-size=\"20\" textLength=\"250\" lengthAdjust=\"spacing\" dy=\"0em\">Two words</text>\n",
       "<text x=\"20\" y=\"70\" font-size=\"20\" textLength=\"250\" lengthAdjust=\"spacingAndGlyphs\" dy=\"0em\">Two words</text>\n",
       "<text x=\"20\" y=\"110\" font-size=\"20\" dy=\"0em\">Two words (normal length)</text>\n",
       "<text x=\"20\" y=\"150\" font-size=\"20\" textLength=\"80\" lengthAdjust=\"spacing\" dy=\"0em\">Two words</text>\n",
       "<text x=\"20\" y=\"190\" font-size=\"20\" textLength=\"80\" lengthAdjust=\"spacingAndGlyphs\" dy=\"0em\">Two words</text>\n",
       "<path d=\"M20,10 L20,195\" stroke=\"gray\" />\n",
       "<path d=\"M270,80 L270,10\" stroke=\"gray\" />\n",
       "</svg>"
      ],
      "text/plain": [
       "<draw2Svg.drawing.Drawing at 0x7fb8fc0fd160>"
      ]
     },
     "execution_count": 23,
     "metadata": {},
     "output_type": "execute_result"
    }
   ],
   "source": [
    "d = dw.Drawing(400,200)\n",
    "\n",
    "s = 'Two words'\n",
    "d.append(dw.Text(s,20,20,30,textLength=250,lengthAdjust='spacing'))\n",
    "d.append(dw.Text(s,20,20,70,textLength=250,lengthAdjust='spacingAndGlyphs'))\n",
    "d.append(dw.Text(s+' (normal length)',20,20,110))\n",
    "d.append(dw.Text(s,20,20,150,textLength=80,lengthAdjust='spacing'))\n",
    "d.append(dw.Text(s,20,20,190,textLength=80,lengthAdjust='spacingAndGlyphs'))\n",
    "\n",
    "d.append(dw.Line(20,10,20,195,stroke='gray'))\n",
    "d.append(dw.Line(270,80,270,10,stroke='gray'))\n",
    "d"
   ]
  },
  {
   "cell_type": "markdown",
   "id": "manufactured-fitness",
   "metadata": {},
   "source": [
    "## 8.6 Vertical Text \n",
    "How to get the ':'? It should result in: 'glyph-orientation-vertical: 0'"
   ]
  },
  {
   "cell_type": "code",
   "execution_count": 27,
   "id": "reserved-impression",
   "metadata": {},
   "outputs": [
    {
     "name": "stdout",
     "output_type": "stream",
     "text": [
      "<?xml version=\"1.0\" encoding=\"UTF-8\"?>\n",
      "<svg xmlns=\"http://www.w3.org/2000/svg\" xmlns:xlink=\"http://www.w3.org/1999/xlink\"\n",
      "     width=\"100\" height=\"350\" viewBox=\"0 0 100 350\">\n",
      "<defs>\n",
      "</defs>\n",
      "<text x=\"10\" y=\"20\" font-size=\"20\" transform=\"rotate(90,10,20)\" dy=\"0em\">Rotated 90</text>\n",
      "<text x=\"50\" y=\"20\" font-size=\"20\" writing-mode=\"tb\" dy=\"0em\">Writing Mode tb</text>\n",
      "<text x=\"90\" y=\"20\" font-size=\"20\" writing-mode=\"tb\" glyph-orientation-vertical=\"0\" dy=\"0em\">Vertical zero</text>\n",
      "</svg>\n"
     ]
    },
    {
     "data": {
      "image/svg+xml": [
       "<?xml version=\"1.0\" encoding=\"UTF-8\"?>\n",
       "<svg xmlns=\"http://www.w3.org/2000/svg\" xmlns:xlink=\"http://www.w3.org/1999/xlink\"\n",
       "     width=\"100\" height=\"350\" viewBox=\"0 0 100 350\">\n",
       "<defs>\n",
       "</defs>\n",
       "<text x=\"10\" y=\"20\" font-size=\"20\" transform=\"rotate(90,10,20)\" dy=\"0em\">Rotated 90</text>\n",
       "<text x=\"50\" y=\"20\" font-size=\"20\" writing-mode=\"tb\" dy=\"0em\">Writing Mode tb</text>\n",
       "<text x=\"90\" y=\"20\" font-size=\"20\" writing-mode=\"tb\" glyph-orientation-vertical=\"0\" dy=\"0em\">Vertical zero</text>\n",
       "</svg>"
      ],
      "text/plain": [
       "<draw2Svg.drawing.Drawing at 0x7fb8fc0fd250>"
      ]
     },
     "execution_count": 27,
     "metadata": {},
     "output_type": "execute_result"
    }
   ],
   "source": [
    "d = dw.Drawing(100,350)\n",
    "d.append(dw.Text('Rotated 90',20,10,20,transform='rotate(90,10,20)'))\n",
    "# tb = top to bottom\n",
    "d.append(dw.Text('Writing Mode tb',20,50,20,writing_mode='tb'))\n",
    "d.append(dw.Text('Vertical zero',20,90,20,writing_mode='tb',glyph_orientation_vertical=0))\n",
    "print(d.asSvg())\n",
    "d"
   ]
  },
  {
   "cell_type": "code",
   "execution_count": null,
   "id": "chinese-accuracy",
   "metadata": {},
   "outputs": [],
   "source": []
  }
 ],
 "metadata": {
  "kernelspec": {
   "display_name": "Python 3",
   "language": "python",
   "name": "python3"
  },
  "language_info": {
   "codemirror_mode": {
    "name": "ipython",
    "version": 3
   },
   "file_extension": ".py",
   "mimetype": "text/x-python",
   "name": "python",
   "nbconvert_exporter": "python",
   "pygments_lexer": "ipython3",
   "version": "3.9.2"
  }
 },
 "nbformat": 4,
 "nbformat_minor": 5
}
